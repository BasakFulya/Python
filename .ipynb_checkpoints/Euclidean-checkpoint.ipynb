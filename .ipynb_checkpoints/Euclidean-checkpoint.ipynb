{
 "cells": [
  {
   "cell_type": "code",
   "execution_count": 1,
   "id": "39ef2940-6bdc-4c62-8616-c47de422a7c6",
   "metadata": {},
   "outputs": [
    {
     "name": "stdout",
     "output_type": "stream",
     "text": [
      "Minimum Euclidean Distance: 5.0\n"
     ]
    }
   ],
   "source": [
    "import math\n",
    "\n",
    "def euclideanDistance(points1, points2):\n",
    "    return math.sqrt((points1[0] - points2[0])**2 + (points1[1] - points2[1])**2)\n",
    "\n",
    "#example points\n",
    "points1 = (1, 2)\n",
    "points2 = (4, 6)\n",
    "\n",
    "# Calculate the distance\n",
    "distance = euclideanDistance(points1, points2)\n",
    "print(f\"Minimum Euclidean Distance: {distance}\")\n"
   ]
  }
 ],
 "metadata": {
  "kernelspec": {
   "display_name": "Python 3 (ipykernel)",
   "language": "python",
   "name": "python3"
  },
  "language_info": {
   "codemirror_mode": {
    "name": "ipython",
    "version": 3
   },
   "file_extension": ".py",
   "mimetype": "text/x-python",
   "name": "python",
   "nbconvert_exporter": "python",
   "pygments_lexer": "ipython3",
   "version": "3.11.7"
  }
 },
 "nbformat": 4,
 "nbformat_minor": 5
}
